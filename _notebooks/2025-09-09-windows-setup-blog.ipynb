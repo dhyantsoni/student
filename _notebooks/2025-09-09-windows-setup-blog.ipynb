{
 "cells": [
  {
   "cell_type": "code",
   "execution_count": null,
   "id": "631643e6",
   "metadata": {
    "vscode": {
     "languageId": "plaintext"
    }
   },
   "outputs": [],
   "source": [
    "---\n",
    "title: Windows Setup Blog\n",
    "comments: true\n",
    "layout: post\n",
    "permalink: /setup-blog\n",
    "description: Windows Setup Blog\n",
    "author: Dhyan Soni\n",
    "---"
   ]
  },
  {
   "cell_type": "markdown",
   "id": "bbbfe31a",
   "metadata": {},
   "source": [
    "# My Windows GitHub Pages Setup Journey\n",
    "This blog documents my experience setting up a GitHub Pages project and development environment on a Windows computer using WSL (Windows Subsystem for Linux)."
   ]
  },
  {
   "cell_type": "markdown",
   "id": "e641570f",
   "metadata": {},
   "source": [
    "## Step 1: Installing WSL and Ubuntu\n",
    "I started by installing WSL and Ubuntu 24.04. This allowed me to use Linux commands and tools on my Windows machine.\n",
    "- Open PowerShell as administrator and run: `wsl --install -d Ubuntu-24.04`\n",
    "- Set up my username and password when prompted.\n",
    "- Set Ubuntu as default: `wsl --set-default Ubuntu-24.04`"
   ]
  },
  {
   "cell_type": "markdown",
   "id": "e472dc20",
   "metadata": {},
   "source": [
    "## Step 2: Installing VS Code and Extensions\n",
    "I downloaded and installed [VS Code](https://code.visualstudio.com/).\n",
    "- Added VS Code to PATH during installation.\n",
    "- Installed the \"Remote Development\" extension pack for working with WSL."
   ]
  },
  {
   "cell_type": "markdown",
   "id": "0767cc1c",
   "metadata": {},
   "source": [
    "## Step 3: Cloning the Project Repository\n",
    "I opened my Ubuntu terminal and ran these commands to clone the class project:\n",
    "```bash\n",
    "cd\n",
    "mkdir open\n",
    "cd open\n",
    "git clone https://github.com/open-coding-society/pages.git\n",
    "```"
   ]
  },
  {
   "cell_type": "markdown",
   "id": "c944103f",
   "metadata": {},
   "source": [
    "## Step 4: Installing Developer Tools\n",
    "I navigated to the scripts folder and ran the setup script:\n",
    "```bash\n",
    "cd pages/scripts\n",
    "./activate_ubuntu.sh\n",
    "```\n",
    "This installed Python, Ruby, Jupyter, and other required packages."
   ]
  },
  {
   "cell_type": "markdown",
   "id": "b3476dbd",
   "metadata": {},
   "source": [
    "## Step 5: Checking Versions\n",
    "I verified my installations with these commands:\n",
    "```bash\n",
    "ruby -v\n",
    "bundle -v\n",
    "python --version\n",
    "jupyter --version\n",
    "```\n",
    "Everything was up-to-date!"
   ]
  },
  {
   "cell_type": "markdown",
   "id": "d7c4ef3e",
   "metadata": {},
   "source": [
    "## Step 6: Configuring Git\n",
    "I set my GitHub email and username:\n",
    "```bash\n",
    "git config --global user.email dhyantsoni@gmail.com\n",
    "git config --global user.name dhyantsoni\n",
    "git config --global --list\n",
    "```"
   ]
  },
  {
   "cell_type": "markdown",
   "id": "af90325f",
   "metadata": {},
   "source": [
    "## Step 7: Starting the Project\n",
    "I cloned the student project and set up the Python environment:\n",
    "```bash\n",
    "cd\n",
    "cd open\n",
    "git clone https://github.com/open-coding-society/student_2025.git\n",
    "cd student_2025\n",
    "scripts/venv.sh\n",
    "source venv/bin/activate\n",
    "pip install -r requirements.txt\n",
    "bundle install\n",
    "code .\n",
    "```"
   ]
  },
  {
   "cell_type": "markdown",
   "id": "4e751881",
   "metadata": {},
   "source": [
    "## Step 8: Building and Running Locally\n",
    "I used the `make` command to build and run the local server:\n",
    "```bash\n",
    "make\n",
    "```\n",
    "I verified my site at the local server address provided in the terminal output."
   ]
  },
  {
   "cell_type": "markdown",
   "id": "64f7b287",
   "metadata": {},
   "source": [
    "## Step 9: Committing and Syncing Changes\n",
    "I used VS Code's Source Control features to commit and sync my changes to GitHub. After syncing, my site was live on GitHub Pages!"
   ]
  },
  {
   "cell_type": "markdown",
   "id": "1abf29d2",
   "metadata": {},
   "source": [
    "# Helping My Team\n",
    "After successfully setting up my environment, I helped 6-7 classmates set up theirs. I guided them through WSL installation, VS Code setup, project cloning, and troubleshooting package issues. Our whole team was able to get their sites running!"
   ]
  }
 ],
 "metadata": {
  "language_info": {
   "name": "python"
  }
 },
 "nbformat": 4,
 "nbformat_minor": 5
}
