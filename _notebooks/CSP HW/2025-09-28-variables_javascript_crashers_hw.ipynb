{
 "cells": [
  {
   "cell_type": "raw",
   "id": "f7d70aa2",
   "metadata": {
    "vscode": {
     "languageId": "raw"
    }
   },
   "source": [
    "---\n",
    "layout: post\n",
    "title: \"3.1 Variables & Assignments hacks\"\n",
    "categories: [Programming Fundamentals, Tutorial]\n",
    "tags: [python, javascript, variables, assignment, beginner]\n",
    "description: Apply your understanding of Variables & Assignments with these hacks\n",
    "author: Aditya Srivastava, Laya Balaji\n",
    "permalink: /javascript/variables/crashers-hw\n",
    "---"
   ]
  },
  {
   "cell_type": "markdown",
   "id": "ce56910b",
   "metadata": {},
   "source": [
    "# 🐷 Peppa Maze Variables & Assignments Hacks\n",
    "Welcome to the Peppa Maze hacks! These challenges will test your understanding of variables, assignments, and logic in Javascript. Read each task, then write or modify code to solve it."
   ]
  },
  {
   "cell_type": "markdown",
   "id": "7dee3bb5",
   "metadata": {},
   "source": [
    "## Hack 1: JavaScript - Variable Assignment, Naming, and Operators\n",
    "Create variables for Peppa's name, score, and level using good JavaScript naming conventions. Assign initial values, then use operators to update score (add 10) and level (multiply by 2). Print all results."
   ]
  },
  {
   "cell_type": "code",
   "execution_count": 5,
   "id": "e4bee113",
   "metadata": {},
   "outputs": [
    {
     "data": {
      "application/javascript": "// Hack 1: JavaScript solution - variable assignment and operators\nlet peppaName = 'Peppa';\nlet peppaScore = 20; // initial score\nlet peppaLevel = 1; // initial level\n\n// Update score and level\npeppaScore += 10; // now 30\npeppaLevel *= 2;   // now 2\n\nconsole.log('Name:', peppaName);\nconsole.log('Score after update:', peppaScore);\nconsole.log('Level after update:', peppaLevel);\n",
      "text/plain": [
       "<IPython.core.display.Javascript object>"
      ]
     },
     "metadata": {},
     "output_type": "display_data"
    }
   ],
   "source": [
    "%%javascript\n",
    "// Hack 1: JavaScript solution - variable assignment and operators\n",
    "let peppaName = 'Peppa';\n",
    "let peppaScore = 20; // initial score\n",
    "let peppaLevel = 1; // initial level\n",
    "\n",
    "// Update score and level\n",
    "peppaScore += 10; // now 30\n",
    "peppaLevel *= 2;   // now 2\n",
    "\n",
    "console.log('Name:', peppaName);\n",
    "console.log('Score after update:', peppaScore);\n",
    "console.log('Level after update:', peppaLevel);"
   ]
  },
  {
   "cell_type": "markdown",
   "id": "3f8a5cbe",
   "metadata": {},
   "source": [
    "## Hack 2: JavaScript - Variable Declaration, Assignment, and Operators\n",
    "Declare variables for Peppa and George's scores using good JavaScript naming conventions. Assign initial values, then use operators to update both scores (e.g., Peppa gets 15 points, George loses 5 points). Print both scores."
   ]
  },
  {
   "cell_type": "code",
   "execution_count": 6,
   "id": "c4c80df3",
   "metadata": {
    "vscode": {
     "languageId": "javascript"
    }
   },
   "outputs": [
    {
     "data": {
      "application/javascript": "// Hack 2: JavaScript solution - update Peppa and George scores\nlet peppaScore = 40; // starting score for this hack\nlet georgeScore = 25;\n\n// Peppa gets 15 points, George loses 5 points\npeppaScore += 15;\ngeorgeScore -= 5;\n\nconsole.log('Peppa score:', peppaScore);\nconsole.log('George score:', georgeScore);\n",
      "text/plain": [
       "<IPython.core.display.Javascript object>"
      ]
     },
     "metadata": {},
     "output_type": "display_data"
    }
   ],
   "source": [
    "%%javascript\n",
    "// Hack 2: JavaScript solution - update Peppa and George scores\n",
    "let peppaScore = 40; // starting score for this hack\n",
    "let georgeScore = 25;\n",
    "\n",
    "// Peppa gets 15 points, George loses 5 points\n",
    "peppaScore += 15;\n",
    "georgeScore -= 5;\n",
    "\n",
    "console.log('Peppa score:', peppaScore);\n",
    "console.log('George score:', georgeScore);"
   ]
  },
  {
   "cell_type": "markdown",
   "id": "30580c24",
   "metadata": {},
   "source": [
    "## Hack 3: JavaScript - Multiple Assignment and Math Operators\n",
    "Peppa and George both start at level 1. Use a single line to assign both their levels to 5. Then, calculate a combined score by multiplying their levels together and multiplying by 10. Print all results."
   ]
  },
  {
   "cell_type": "code",
   "execution_count": 7,
   "id": "67774ff3",
   "metadata": {
    "vscode": {
     "languageId": "javascript"
    }
   },
   "outputs": [
    {
     "data": {
      "application/javascript": "\n// Hack 3: JavaScript solution - multiple assignment and combined score\nlet peppaLevel = 1, georgeLevel = 1;\n// Assign both to 5 in one line (use comma-separated assignments)\npeppaLevel = georgeLevel = 5;\n\nlet combinedScore = peppaLevel * georgeLevel * 10;\n\nconsole.log('Peppa level:', peppaLevel);\nconsole.log('George level:', georgeLevel);\nconsole.log('Combined score (levels * 10):', combinedScore);\n",
      "text/plain": [
       "<IPython.core.display.Javascript object>"
      ]
     },
     "metadata": {},
     "output_type": "display_data"
    }
   ],
   "source": [
    "%%javascript\n",
    "\n",
    "// Hack 3: JavaScript solution - multiple assignment and combined score\n",
    "let peppaLevel = 1, georgeLevel = 1;\n",
    "// Assign both to 5 in one line (use comma-separated assignments)\n",
    "peppaLevel = georgeLevel = 5;\n",
    "\n",
    "let combinedScore = peppaLevel * georgeLevel * 10;\n",
    "\n",
    "console.log('Peppa level:', peppaLevel);\n",
    "console.log('George level:', georgeLevel);\n",
    "console.log('Combined score (levels * 10):', combinedScore);"
   ]
  }
 ],
 "metadata": {
  "kernelspec": {
   "display_name": "Python 3",
   "language": "python",
   "name": "python3"
  },
  "language_info": {
   "codemirror_mode": {
    "name": "ipython",
    "version": 3
   },
   "file_extension": ".py",
   "mimetype": "text/x-python",
   "name": "python",
   "nbconvert_exporter": "python",
   "pygments_lexer": "ipython3",
   "version": "3.10.12"
  }
 },
 "nbformat": 4,
 "nbformat_minor": 5
}
