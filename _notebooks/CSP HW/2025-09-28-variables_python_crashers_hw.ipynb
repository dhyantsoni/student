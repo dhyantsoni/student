{
 "cells": [
  {
   "cell_type": "raw",
   "id": "f8d46d8e",
   "metadata": {
    "vscode": {
     "languageId": "raw"
    }
   },
   "source": [
    "---\n",
    "layout: post\n",
    "title: \"3.1 Variables & Assignments hacks - Python\"\n",
    "categories: [Programming Fundamentals, Tutorial]\n",
    "tags: [python, variables, assignment, beginner]\n",
    "description: Apply your understanding of Variables & Assignments with these Python hacks\n",
    "permalink: /python/variables/crashers-hw\n",
    "author: Aditya Srivastava\n",
    "---"
   ]
  },
  {
   "cell_type": "markdown",
   "id": "e48e5dfd",
   "metadata": {},
   "source": [
    "# 🐷 Peppa Maze Variables & Assignments Hacks (Python)\n",
    "Welcome to the Peppa Maze hacks! These challenges will test your understanding of variables, assignments, and logic in Python. Read each task, then write or modify code to solve it."
   ]
  },
  {
   "cell_type": "markdown",
   "id": "7333747d",
   "metadata": {},
   "source": [
    "## Hack 1: Python - Variable Assignment, Naming, and Operators\n",
    "Create variables for Peppa's name, score, and level using good Python naming conventions. Assign initial values, then use operators to update score (add 10) and level (multiply by 2). Print all results."
   ]
  },
  {
   "cell_type": "code",
   "execution_count": null,
   "id": "febf933f",
   "metadata": {},
   "outputs": [],
   "source": [
    "# Hack 1 solution: variable assignment and operators\n",
    "peppa_name = 'Peppa'\n",
    "peppa_score = 20  # initial score\n",
    "peppa_level = 1  # initial level\n",
    "\n",
    "# Update score (add 10) and level (multiply by 2)\n",
    "peppa_score += 10  # now 30\n",
    "peppa_level *= 2   # now 2\n",
    "\n",
    "print(f'Name: {peppa_name}')\n",
    "print(f'Score after update: {peppa_score}')\n",
    "print(f'Level after update: {peppa_level}')"
   ]
  },
  {
   "cell_type": "markdown",
   "id": "a3133f05",
   "metadata": {},
   "source": [
    "## Hack 2: Python - Variable Declaration, Assignment, and Operators\n",
    "Declare variables for Peppa and George's scores using good Python naming conventions. Assign initial values, then use operators to update both scores (e.g., Peppa gets 15 points, George loses 5 points). Print both scores."
   ]
  },
  {
   "cell_type": "code",
   "execution_count": null,
   "id": "d8501a2d",
   "metadata": {},
   "outputs": [],
   "source": [
    "# Hack 2 solution: update Peppa and George scores\n",
    "peppa_score = 40  # starting score for this hack\n",
    "george_score = 25\n",
    "\n",
    "# Peppa gets 15 points, George loses 5 points\n",
    "peppa_score += 15  # Peppa gains points\n",
    "george_score -= 5  # George loses points\n",
    "\n",
    "print(f'Peppa score: {peppa_score}')\n",
    "print(f'George score: {george_score}')"
   ]
  },
  {
   "cell_type": "markdown",
   "id": "f248c523",
   "metadata": {},
   "source": [
    "## Hack 3: Python - Multiple Assignment and Math Operators\n",
    "Peppa and George both start at level 1. Use Python's multiple assignment feature to assign both their levels to 5 in one line. Then, calculate a combined score by multiplying their levels together and multiplying by 10. Print all results."
   ]
  },
  {
   "cell_type": "code",
   "execution_count": null,
   "id": "bfd55c97",
   "metadata": {},
   "outputs": [],
   "source": [
    "# Hack 3 solution: multiple assignment and combined score\n",
    "# Both start at level 1 but we set both to 5 using multiple assignment\n",
    "peppa_level = george_level = 5\n",
    "\n",
    "combined_score = peppa_level * george_level * 10\n",
    "\n",
    "print(f'Peppa level: {peppa_level}')\n",
    "print(f'George level: {george_level}')\n",
    "print(f'Combined score (levels * 10): {combined_score}')"
   ]
  }
 ],
 "metadata": {
  "language_info": {
   "name": "python"
  }
 },
 "nbformat": 4,
 "nbformat_minor": 5
}
