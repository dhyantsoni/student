{
 "cells": [
  {
   "cell_type": "raw",
   "id": "6e07d1a7",
   "metadata": {
    "vscode": {
     "languageId": "raw"
    }
   },
   "source": [
    "---\n",
    "layout: post\n",
    "title: \"Escape Room 3.15 - Hacks & Extensions\"\n",
    "description: \"Extended Python challenges and hacks for CSP 3.15 Escape Room - Random Values\"\n",
    "type: hacks\n",
    "toc: true\n",
    "comments: true\n",
    "permalink: /3.15/homework/python\n",
    "author: Team Debuggers\n",
    "---\n"
   ]
  },
  {
   "cell_type": "markdown",
   "id": "9f874417",
   "metadata": {},
   "source": [
    "# 🚀 Escape Room Python Hacks\n"
   ]
  },
  {
   "cell_type": "markdown",
   "id": "7aedbe34",
   "metadata": {},
   "source": [
    "1. Simulate rolling two dice and show all possible sums of their outcomes."
   ]
  },
  {
   "cell_type": "code",
   "execution_count": 1,
   "id": "a73638bf",
   "metadata": {},
   "outputs": [
    {
     "name": "stdout",
     "output_type": "stream",
     "text": [
      "Die 1: 1, Die 2: 1 → Sum: 2\n",
      "Die 1: 1, Die 2: 2 → Sum: 3\n",
      "Die 1: 1, Die 2: 3 → Sum: 4\n",
      "Die 1: 1, Die 2: 4 → Sum: 5\n",
      "Die 1: 1, Die 2: 5 → Sum: 6\n",
      "Die 1: 1, Die 2: 6 → Sum: 7\n",
      "Die 1: 2, Die 2: 1 → Sum: 3\n",
      "Die 1: 2, Die 2: 2 → Sum: 4\n",
      "Die 1: 2, Die 2: 3 → Sum: 5\n",
      "Die 1: 2, Die 2: 4 → Sum: 6\n",
      "Die 1: 2, Die 2: 5 → Sum: 7\n",
      "Die 1: 2, Die 2: 6 → Sum: 8\n",
      "Die 1: 3, Die 2: 1 → Sum: 4\n",
      "Die 1: 3, Die 2: 2 → Sum: 5\n",
      "Die 1: 3, Die 2: 3 → Sum: 6\n",
      "Die 1: 3, Die 2: 4 → Sum: 7\n",
      "Die 1: 3, Die 2: 5 → Sum: 8\n",
      "Die 1: 3, Die 2: 6 → Sum: 9\n",
      "Die 1: 4, Die 2: 1 → Sum: 5\n",
      "Die 1: 4, Die 2: 2 → Sum: 6\n",
      "Die 1: 4, Die 2: 3 → Sum: 7\n",
      "Die 1: 4, Die 2: 4 → Sum: 8\n",
      "Die 1: 4, Die 2: 5 → Sum: 9\n",
      "Die 1: 4, Die 2: 6 → Sum: 10\n",
      "Die 1: 5, Die 2: 1 → Sum: 6\n",
      "Die 1: 5, Die 2: 2 → Sum: 7\n",
      "Die 1: 5, Die 2: 3 → Sum: 8\n",
      "Die 1: 5, Die 2: 4 → Sum: 9\n",
      "Die 1: 5, Die 2: 5 → Sum: 10\n",
      "Die 1: 5, Die 2: 6 → Sum: 11\n",
      "Die 1: 6, Die 2: 1 → Sum: 7\n",
      "Die 1: 6, Die 2: 2 → Sum: 8\n",
      "Die 1: 6, Die 2: 3 → Sum: 9\n",
      "Die 1: 6, Die 2: 4 → Sum: 10\n",
      "Die 1: 6, Die 2: 5 → Sum: 11\n",
      "Die 1: 6, Die 2: 6 → Sum: 12\n"
     ]
    }
   ],
   "source": [
    "# 🎲 Die faces: 1, 2, 3, 4, 5, 6\n",
    "# TODO: Write code to calculate and display all possible sums\n",
    "# Hint: You may need two nested loops\n",
    "for die1 in range(1, 7):\n",
    "    for die2 in range(1, 7):\n",
    "        total = die1 + die2\n",
    "        print(f\"Die 1: {die1}, Die 2: {die2} → Sum: {total}\")\n"
   ]
  },
  {
   "cell_type": "markdown",
   "id": "323ac43a",
   "metadata": {},
   "source": [
    "2. Create a fortune teller program. The response \"Try Again\" should appear 40% of the time, while the other possible responses are \"Yes\", \"No\", and \"Maybe\"."
   ]
  },
  {
   "cell_type": "code",
   "execution_count": 2,
   "id": "c608c7e8",
   "metadata": {},
   "outputs": [
    {
     "name": "stdout",
     "output_type": "stream",
     "text": [
      "Maybe\n"
     ]
    }
   ],
   "source": [
    "import random\n",
    "\n",
    "# 🔮 Fortune Teller\n",
    "# TODO: Generate a random number between 1 and 100\n",
    "num = random.randint(1, 100)\n",
    "if num <= 40:  # 40% chance\n",
    "    print(\"Try Again\")\n",
    "elif num <= 65:  # next 25%\n",
    "    print(\"Yes\")\n",
    "elif num <= 85:  # next 20%\n",
    "    print(\"No\")\n",
    "else:  # remaining 15%\n",
    "    print(\"Maybe\")\n"
   ]
  },
  {
   "cell_type": "markdown",
   "id": "f5f6ad02",
   "metadata": {},
   "source": [
    "3. Create a program that randomly selects a meal from a menu list. For example: \"Pizza\", \"Burger\", \"Salad\", \"Pasta\", \"Sushi\"."
   ]
  },
  {
   "cell_type": "code",
   "execution_count": 4,
   "id": "623d5cec",
   "metadata": {},
   "outputs": [
    {
     "name": "stdout",
     "output_type": "stream",
     "text": [
      "Today's random meal is: Burger\n"
     ]
    }
   ],
   "source": [
    "import random\n",
    "\n",
    "# 🍔 Menu list of meals\n",
    "meals = [\"Pizza\", \"Burger\", \"Salad\", \"Pasta\", \"Sushi\"]\n",
    "\n",
    "# TODO: Pick one random meal from the list\n",
    "meal_choice = random.choice(meals)\n",
    "print(\"Today's random meal is:\", meal_choice)"
   ]
  },
  {
   "cell_type": "markdown",
   "id": "e230199d",
   "metadata": {},
   "source": [
    "4. Practice using random.choice() and random.shuffle().\n",
    "\n",
    "- Use random.choice() to select one random card from a deck.\n",
    "\n",
    "- Use random.shuffle() to shuffle the entire deck."
   ]
  },
  {
   "cell_type": "code",
   "execution_count": 5,
   "id": "9efcd451",
   "metadata": {},
   "outputs": [
    {
     "name": "stdout",
     "output_type": "stream",
     "text": [
      "Randomly chosen card: 9\n",
      "Shuffled deck: [3, 9, 4, 1, 10, 5, 6, 2, 8, 7]\n"
     ]
    }
   ],
   "source": [
    "import random\n",
    "\n",
    "# 🃏 Deck of cards (simplified as numbers 1–10 for this example)\n",
    "deck = [1,2,3,4,5,6,7,8,9,10]\n",
    "\n",
    "# TODO: Use random.choice() to pick one card\n",
    "# TODO: Use random.shuffle() to shuffle the deck and print it\n",
    "chosen_card = random.choice(deck)\n",
    "print(\"Randomly chosen card:\", chosen_card)\n",
    "random.shuffle(deck)\n",
    "print(\"Shuffled deck:\", deck)\n"
   ]
  }
 ],
 "metadata": {
  "kernelspec": {
   "display_name": "Python 3",
   "language": "python",
   "name": "python3"
  },
  "language_info": {
   "codemirror_mode": {
    "name": "ipython",
    "version": 3
   },
   "file_extension": ".py",
   "mimetype": "text/x-python",
   "name": "python",
   "nbconvert_exporter": "python",
   "pygments_lexer": "ipython3",
   "version": "3.10.12"
  }
 },
 "nbformat": 4,
 "nbformat_minor": 5
}
