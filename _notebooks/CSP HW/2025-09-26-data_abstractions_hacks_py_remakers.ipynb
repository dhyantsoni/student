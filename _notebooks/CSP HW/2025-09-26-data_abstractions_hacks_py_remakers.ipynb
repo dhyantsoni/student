{
 "cells": [
  {
   "cell_type": "raw",
   "id": "ca7c3f46",
   "metadata": {
    "vscode": {
     "languageId": "raw"
    }
   },
   "source": [
    "---\n",
    "toc: true\n",
    "comments: false\n",
    "layout: post\n",
    "categories: [CSP Big Idea 3]\n",
    "title: 3.2 Data Abstractions Python Hack\n",
    "author: Jaynee Chauhan, Michelle Ji, Lucas Masterson\n",
    "description: Hack(s) for intro to data abstractions in Python.\n",
    "type: ccc\n",
    "permalink: /csp/big-idea-3/data-abstractions/p4/hacks-py\n",
    "---"
   ]
  },
  {
   "cell_type": "markdown",
   "id": "14d2f5f9",
   "metadata": {},
   "source": [
    "## Python Lab: Simple DBs\n",
    "\n",
    "In this lab, you'll be working on a simple \"database\" system consisting of dictionaries. The idea here is to understand some basic CRUD actions and how you can use data abstractions (dictionaries in this case) to represent redundant, similar data under a unified structure.\n",
    "\n",
    "You'll have to do some research about some Python syntax for this!\n",
    "\n",
    "You can complete the Python lab by simply running your code and getting your outputs in the Jupyter notebook."
   ]
  },
  {
   "cell_type": "code",
   "execution_count": null,
   "id": "04367227",
   "metadata": {},
   "outputs": [
    {
     "name": "stdout",
     "output_type": "stream",
     "text": [
      "All records in the list:\n",
      "Index 0: {'name': 'Alice', 'age': 16, 'grade': 'A'}\n",
      "Index 1: {'name': 'Bob', 'age': 17, 'grade': 'B'}\n",
      "Index 2: {'name': 'Charlie', 'age': 16, 'grade': 'C'}\n"
     ]
    }
   ],
   "source": [
    "# Our \"database\" is a list of dictionaries, each representing a record (e.g., a student)\n",
    "# Lists allow us to store multiple records in a single variable, making it easy to manage collections of data.\n",
    "db = [\n",
    "    {\"name\": \"Alice\", \"age\": 16, \"grade\": \"A\"},\n",
    "    {\"name\": \"Bob\", \"age\": 17, \"grade\": \"B\"},\n",
    "    {\"name\": \"Charlie\", \"age\": 16, \"grade\": \"C\"}\n",
    "]\n",
    "\n",
    "# Lists provide order and allow us to add, remove, or update records efficiently.\n",
    "# Each element in the list is a dictionary, which abstracts the details of each student.\n",
    "\n",
    "# Function to display all records\n",
    "def display_db(database):\n",
    "    print(\"All records in the list:\")\n",
    "    for i, record in enumerate(database):\n",
    "        print(f\"Index {i}: {record}\")\n",
    "\n",
    "# Function to add a new record (students: implement input and append logic)\n",
    "def add_record(database):\n",
    "    # TODO: Prompt user for name, age, and grade, then append to database (list)\n",
    "    # Use list's append() method to add new records.\n",
    "    name = input(\"Enter name: \").strip()\n",
    "    age_str = input(\"Enter age: \").strip()\n",
    "    grade = input(\"Enter grade: \").strip()\n",
    "\n",
    "    try:\n",
    "        age = int(age_str)\n",
    "    except ValueError:\n",
    "        age = age_str  # keep raw input if not integer\n",
    "\n",
    "    record = {\"name\": name, \"age\": age, \"grade\": grade}\n",
    "    database.append(record)\n",
    "    print(\"Added:\", record)\n",
    "    return record\n",
    "\n",
    "# Function to find a record by name (students: implement search logic)\n",
    "def find_record(database, search_name):\n",
    "    # TODO: Search for a record with matching name and print it\n",
    "    # You can loop through the list to find the matching dictionary.\n",
    "    for record in database:\n",
    "        if record.get(\"name\") == search_name:\n",
    "            print(\"Found:\", record)\n",
    "            return record\n",
    "    print(\"Record not found\")\n",
    "    return None\n",
    "\n",
    "# Function to update a record (students: implement update logic)\n",
    "def update_record(database, search_name):\n",
    "    # TODO: Find record by name and update its fields\n",
    "    # Use list indexing to access and update the dictionary.\n",
    "    for i, record in enumerate(database):\n",
    "        if record.get(\"name\") == search_name:\n",
    "            new_name = input(f\"New name (press Enter to keep '{record['name']}'): \").strip()\n",
    "            new_age = input(f\"New age (press Enter to keep '{record['age']}'): \").strip()\n",
    "            new_grade = input(f\"New grade (press Enter to keep '{record['grade']}'): \").strip()\n",
    "\n",
    "            if new_name:\n",
    "                record[\"name\"] = new_name\n",
    "            if new_age:\n",
    "                try:\n",
    "                    record[\"age\"] = int(new_age)\n",
    "                except ValueError:\n",
    "                    record[\"age\"] = new_age\n",
    "            if new_grade:\n",
    "                record[\"grade\"] = new_grade\n",
    "\n",
    "            database[i] = record\n",
    "            print(\"Updated:\", record)\n",
    "            return record\n",
    "\n",
    "    print(\"Record not found\")\n",
    "    return None\n",
    "\n",
    "# Function to delete a record (students: implement delete logic)\n",
    "def delete_record(database, search_name):\n",
    "    # TODO: Remove record with matching name from database\n",
    "    # Use list methods like remove() or del to delete a record.\n",
    "    for i, record in enumerate(database):\n",
    "        if record.get(\"name\") == search_name:\n",
    "            removed = database.pop(i)\n",
    "            print(\"Deleted:\", removed)\n",
    "            return removed\n",
    "    print(\"Record not found\")\n",
    "    return None\n",
    "\n",
    "# Example usage\n",
    "display_db(db)\n",
    "# Students: Uncomment and complete the following as you implement\n",
    "# add_record(db)\n",
    "# find_record(db, \"Alice\")\n",
    "# update_record(db, \"Bob\")\n",
    "# delete_record(db, \"Charlie\")"
   ]
  }
 ],
 "metadata": {
  "kernelspec": {
   "display_name": "Python 3",
   "language": "python",
   "name": "python3"
  },
  "language_info": {
   "codemirror_mode": {
    "name": "ipython",
    "version": 3
   },
   "file_extension": ".py",
   "mimetype": "text/x-python",
   "name": "python",
   "nbconvert_exporter": "python",
   "pygments_lexer": "ipython3",
   "version": "3.10.12"
  }
 },
 "nbformat": 4,
 "nbformat_minor": 5
}
