{
 "cells": [
  {
   "cell_type": "raw",
   "id": "29fdb64f",
   "metadata": {
    "vscode": {
     "languageId": "raw"
    }
   },
   "source": [
    "---\n",
    "toc: true\n",
    "layout: post\n",
    "categories: [Python]\n",
    "title: Remakers - 3.13 Developing Procedures Python Hacks\n",
    "description: \"Apply your skills to basic procedure development in Javascript.\"\n",
    "permalink: /python/developing-procedures/remakers-hw\n",
    "author: Krishna Visvanath, Sloane Sommers\n",
    "---"
   ]
  },
  {
   "cell_type": "markdown",
   "id": "51406078",
   "metadata": {},
   "source": [
    "### Q1 (Easy)\n",
    "Which of these procedures is named well, provide a **short** explanation of justification"
   ]
  },
  {
   "cell_type": "code",
   "execution_count": 3,
   "id": "85877c5a",
   "metadata": {},
   "outputs": [
    {
     "ename": "IndentationError",
     "evalue": "expected an indented block after function definition on line 1 (1843281653.py, line 3)",
     "output_type": "error",
     "traceback": [
      "\u001b[0;36m  Cell \u001b[0;32mIn[3], line 3\u001b[0;36m\u001b[0m\n\u001b[0;31m    def do_it():\u001b[0m\n\u001b[0m    ^\u001b[0m\n\u001b[0;31mIndentationError\u001b[0m\u001b[0;31m:\u001b[0m expected an indented block after function definition on line 1\n"
     ]
    }
   ],
   "source": [
    "def mix_ingredients():\n",
    "\n",
    "def do_it():\n",
    "\n",
    "def make_move():"
   ]
  },
  {
   "cell_type": "markdown",
   "id": "e05b98ef",
   "metadata": {},
   "source": [
    "**Explanation Here:**\n",
    "mix_ingredients is right because.. it gives us the best description of the process happening in the cell"
   ]
  },
  {
   "cell_type": "markdown",
   "id": "3b2e2e46",
   "metadata": {},
   "source": [
    "### Q2 (Medium)\n",
    "Finish the code to have a correctly named procedure"
   ]
  },
  {
   "cell_type": "code",
   "execution_count": 4,
   "id": "e6d4b833",
   "metadata": {},
   "outputs": [
    {
     "name": "stdout",
     "output_type": "stream",
     "text": [
      "Moving forward.\n",
      "Turning left\n",
      "Moving forward.\n"
     ]
    }
   ],
   "source": [
    "##Todo: add corresponding procedure definitions\n",
    "##here- replace this line with your code\n",
    "def move_forward():\n",
    "    print(\"Moving forward.\")\n",
    "\n",
    "##here- replace this line with your code\n",
    "def rotate_180():\n",
    "    print(\"Turning left\")\n",
    "\n",
    "##here- replace this line with your code\n",
    "def move_forward_again():\n",
    "    print(\"Moving forward again to complete left turn.\")\n",
    "\n",
    "def make_left_turn():\n",
    "    move_forward()\n",
    "    rotate_180()\n",
    "    move_forward()\n",
    "\n",
    "# Run the procedure\n",
    "if __name__ == '__main__':\n",
    "    make_left_turn()"
   ]
  },
  {
   "cell_type": "markdown",
   "id": "81c68339",
   "metadata": {},
   "source": [
    "### Q3 (Hard)\n",
    "Write code to fulfill the requirements\n",
    "Doing a dance! 🕺💃\n",
    "Must have\n",
    "1. A shimmy left procedure\n",
    "- Print `super cool left slide`\n",
    "2. A shimmy right procedure, print `even cooler right slide`\n",
    "3. Doing a bow to the crowd, print `Great dance!`, `the audience claps at your bow!`"
   ]
  },
  {
   "cell_type": "code",
   "execution_count": null,
   "id": "9f7c7c6f",
   "metadata": {},
   "outputs": [
    {
     "name": "stdout",
     "output_type": "stream",
     "text": [
      "🕺💃 Starting the dance routine! 🕺💃\n",
      "super cool left slide\n",
      "even cooler right slide\n",
      "super cool left slide\n",
      "even cooler right slide\n",
      "Great dance!\n",
      "the audience claps at your bow!\n"
     ]
    }
   ],
   "source": [
    "##Code away!\n",
    "\n",
    "# 1. A shimmy left procedure\n",
    "def shimmy_left():\n",
    "    print(\"super cool left slide\")\n",
    "\n",
    "# 2. A shimmy right procedure\n",
    "def shimmy_right():\n",
    "    print(\"even cooler right slide\")\n",
    "\n",
    "# 3. Doing a bow to the crowd\n",
    "def bow_to_crowd():\n",
    "    print(\"Great dance!\")\n",
    "    print(\"the audience claps at your bow!\")\n",
    "\n",
    "# Main dance routine\n",
    "def perform_dance():\n",
    "    print(\"🕺💃 Starting the dance routine! 🕺💃\")\n",
    "    shimmy_left()\n",
    "    shimmy_right()\n",
    "    shimmy_left()\n",
    "    shimmy_right()\n",
    "    bow_to_crowd()\n",
    "\n",
    "# Execute the dance!\n",
    "if __name__ == '__main__':\n",
    "    perform_dance()"
   ]
  }
 ],
 "metadata": {
  "kernelspec": {
   "display_name": "Python 3",
   "language": "python",
   "name": "python3"
  },
  "language_info": {
   "codemirror_mode": {
    "name": "ipython",
    "version": 3
   },
   "file_extension": ".py",
   "mimetype": "text/x-python",
   "name": "python",
   "nbconvert_exporter": "python",
   "pygments_lexer": "ipython3",
   "version": "3.10.12"
  }
 },
 "nbformat": 4,
 "nbformat_minor": 5
}
