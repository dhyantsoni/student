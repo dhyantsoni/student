{
 "cells": [
  {
   "cell_type": "raw",
   "id": "6290bcd2",
   "metadata": {
    "vscode": {
     "languageId": "raw"
    }
   },
   "source": [
    "---\n",
    "title: \"Mathematical Operations in Javascript and Python - Hacks\"\n",
    "description: \"Apply your skills of math, logic, and coding.\"\n",
    "layout: post\n",
    "permalink: /javascript/mathematical-expressions/codemaxxers-hw\n",
    "---"
   ]
  },
  {
   "cell_type": "markdown",
   "id": "d98b569e",
   "metadata": {},
   "source": [
    "# Basic Algebraic Math hacks\n",
    "\n",
    "## Q1 (Exponents):\n",
    "### A cube has a side length of 4 units. What is its volume?"
   ]
  },
  {
   "cell_type": "code",
   "execution_count": 4,
   "id": "235ceb13",
   "metadata": {},
   "outputs": [
    {
     "name": "stdout",
     "output_type": "stream",
     "text": [
      "7\n"
     ]
    }
   ],
   "source": [
    "cube_len = 4^3\n",
    "print(cube_len)"
   ]
  },
  {
   "cell_type": "markdown",
   "id": "3fb1dd4d",
   "metadata": {},
   "source": [
    "## Q2 (PEMDAS):\n",
    "### Evaluate the expression: \n",
    "\n",
    " (12+8)/2+(3^2)"
   ]
  },
  {
   "cell_type": "code",
   "execution_count": 5,
   "id": "49d712a3",
   "metadata": {},
   "outputs": [
    {
     "name": "stdout",
     "output_type": "stream",
     "text": [
      "11.0\n"
     ]
    }
   ],
   "source": [
    "ans = (12+8)/2+(3^2)\n",
    "print(ans)"
   ]
  },
  {
   "cell_type": "markdown",
   "id": "fcaa4762",
   "metadata": {},
   "source": [
    "## Q3 (Algorithm): \n",
    "\n",
    "Write Python  code where you define variables and run commands that find the values of operations you apply onto them"
   ]
  },
  {
   "cell_type": "code",
   "execution_count": 6,
   "id": "0a2081a9",
   "metadata": {},
   "outputs": [
    {
     "name": "stdout",
     "output_type": "stream",
     "text": [
      "x = 15, y = 4\n",
      "sum = 19, diff = 11, prod = 60\n",
      "div = 3.75 (float), int_div = 3, mod = 3\n",
      "pow (x**y) = 50625\n",
      "xor (x ^ y)  = 11\n"
     ]
    }
   ],
   "source": [
    "x = 15\n",
    "y = 4\n",
    "sum_xy = x + y\n",
    "diff_xy = x - y\n",
    "prod_xy = x * y\n",
    "div_xy = x / y  # float division\n",
    "int_div = x // y  # integer division (quotient)\n",
    "mod_xy = x % y  # remainder\n",
    "pow_xy = x ** y  # x to the power y\n",
    "xor_example = x ^ y  # bitwise XOR, not exponent\n",
    "\n",
    "# Small helper to pretty-print results\n",
    "def show_results():\n",
    "    print(f\"x = {x}, y = {y}\")\n",
    "    print(f\"sum = {sum_xy}, diff = {diff_xy}, prod = {prod_xy}\")\n",
    "    print(f\"div = {div_xy} (float), int_div = {int_div}, mod = {mod_xy}\")\n",
    "    print(f\"pow (x**y) = {pow_xy}\")\n",
    "    print(f\"xor (x ^ y)  = {xor_example}\")\n",
    "\n",
    "# Run the helper to show outputs\n",
    "show_results()"
   ]
  },
  {
   "cell_type": "markdown",
   "id": "40a2f9a8",
   "metadata": {},
   "source": [
    "<img src=\"/images/3_3diagram.png\" alt=\"Diagram showing mathematical operations\" style=\"max-width:300px; margin:10px;\">\n"
   ]
  }
 ],
 "metadata": {
  "kernelspec": {
   "display_name": "Python 3",
   "language": "python",
   "name": "python3"
  },
  "language_info": {
   "codemirror_mode": {
    "name": "ipython",
    "version": 3
   },
   "file_extension": ".py",
   "mimetype": "text/x-python",
   "name": "python",
   "nbconvert_exporter": "python",
   "pygments_lexer": "ipython3",
   "version": "3.10.12"
  }
 },
 "nbformat": 4,
 "nbformat_minor": 5
}
