{
 "cells": [
  {
   "cell_type": "code",
   "execution_count": null,
   "id": "e4102f0e",
   "metadata": {},
   "outputs": [],
   "source": [
    "---\n",
    "toc: true\n",
    "comments: false\n",
    "layout: post\n",
    "categories: [CSP Big Idea 3]\n",
    "title: 3.2 Data Abstractions JS Hack\n",
    "author: Jaynee Chauhan, Michelle Ji, Lucas Masterson\n",
    "description: Hack(s) for intro to data abstractions in JS.\n",
    "type: ccc\n",
    "permalink: /csp/big-idea-3/data-abstractions/p4/hacks-js\n",
    "---"
   ]
  },
  {
   "cell_type": "markdown",
   "id": "690b4172",
   "metadata": {},
   "source": [
    "## JS Lab: Library\n",
    "\n",
    "In this lab, similarly to the Python lab, you'll be working on a simple \"database\" for a library to understand CRUD operations in relation to representing redundant, similar data under one structure -- an abstraction.\n",
    "\n",
    "For JavaScript, you'll have to open the web console from Developer Tools (`ctrl + shift + p` -> `Developer: Toggle developer tools`)."
   ]
  },
  {
   "cell_type": "code",
   "execution_count": 1,
   "id": "d7228dda",
   "metadata": {
    "vscode": {
     "languageId": "javascript"
    }
   },
   "outputs": [
    {
     "data": {
      "application/javascript": "// Our \"database\" is an array of objects, each representing a book in a library.\n// Arrays allow us to store multiple records in a single variable, making it easy to manage collections of data.\nlet library = [\n    { title: \"1984\", author: \"George Orwell\", checkedOut: false },\n    { title: \"To Kill a Mockingbird\", author: \"Harper Lee\", checkedOut: true },\n    { title: \"The Great Gatsby\", author: \"F. Scott Fitzgerald\", checkedOut: false }\n];\n\n// Arrays provide order and allow us to add, remove, or update records efficiently.\n// Each element in the array is an object, which abstracts the details of each book.\n\n// Function to display all books\nfunction displayLibrary(lib) {\n    console.log(\"All books in the library:\");\n    lib.forEach((book, i) => {\n        console.log(`Index ${i}:`, book);\n    });\n}\n\n// Function to add a new book (students: implement prompt and push logic)\nfunction addBook(lib) {\n    // TODO: Prompt user for title, author, and checkedOut status, then push to library (array)\n    // Use array's push() method to add new books.\n    if (typeof title === \"undefined\") {\n        if (typeof prompt !== \"undefined\") {\n            title = prompt(\"Title:\").trim();\n            author = prompt(\"Author:\").trim();\n            const ans = prompt(\"Checked out? (yes/no):\").trim().toLowerCase();\n            checkedOut = ans === \"yes\";\n        } else {\n            console.warn(\"addBook requires parameters in this environment.\");\n            return null;\n        }\n    }\n    const book = { title, author, checkedOut: !!checkedOut };\n    lib.push(book);\n    console.log(\"Added:\", book);\n    return book;\n}\n\n// Function to find a book by title (students: implement search logic)\nfunction findBook(lib, searchTitle) {\n    // TODO: Search for a book with matching title and print it\n    // You can loop through the array to find the matching object.\n    const book = lib.find(b => b.title === searchTitle);\n    if (book) {\n        console.log(\"Found book:\", book);\n        return book;\n    } else {\n        console.log(`Book titled \"${searchTitle}\" not found.`);\n        return null;\n    }\n}\n\n// Function to update a book's checkedOut status (students: implement update logic)\nfunction updateBook(lib, searchTitle) {\n    // TODO: Find book by title and update its checkedOut field\n    // Use array indexing to access and update the object.\n    const idx = lib.findIndex(b => b.title === searchTitle);\n    if (idx === -1) {\n        console.log(\"Book not found:\", searchTitle);\n        return null;\n    }\n    const book = lib[idx];\n    if (updates.title !== undefined) book.title = updates.title;\n    if (updates.author !== undefined) book.author = updates.author;\n    if (updates.checkedOut !== undefined) book.checkedOut = !!updates.checkedOut;\n    lib[idx] = book;\n    console.log(\"Updated:\", book);\n    return book;\n}\n\n// Function to delete a book (students: implement delete logic)\nfunction deleteBook(lib, searchTitle) {\n    // TODO: Remove book with matching title from library\n    // Use array methods like splice() to delete a book.\n    const idx = lib.findIndex(b => b.title === searchTitle);\n    if (idx === -1) {\n        console.log(\"Book not found:\", searchTitle);\n        return null;\n    }\n    const removed = lib.splice(idx, 1)[0];\n    console.log(\"Deleted:\", removed);\n    return removed;\n}\n\n// Example usage\ndisplayLibrary(library);\n// Students: Uncomment and complete the following as you implement\n// addBook(library);\n// findBook(library, \"1984\");\n// updateBook(library, \"To Kill a Mockingbird\");\n// deleteBook(library, \"The Great Gatsby\");\n",
      "text/plain": [
       "<IPython.core.display.Javascript object>"
      ]
     },
     "metadata": {},
     "output_type": "display_data"
    }
   ],
   "source": [
    "%%javascript\n",
    "// Our \"database\" is an array of objects, each representing a book in a library.\n",
    "// Arrays allow us to store multiple records in a single variable, making it easy to manage collections of data.\n",
    "let library = [\n",
    "    { title: \"1984\", author: \"George Orwell\", checkedOut: false },\n",
    "    { title: \"To Kill a Mockingbird\", author: \"Harper Lee\", checkedOut: true },\n",
    "    { title: \"The Great Gatsby\", author: \"F. Scott Fitzgerald\", checkedOut: false }\n",
    "];\n",
    "\n",
    "// Arrays provide order and allow us to add, remove, or update records efficiently.\n",
    "// Each element in the array is an object, which abstracts the details of each book.\n",
    "\n",
    "// Function to display all books\n",
    "function displayLibrary(lib) {\n",
    "    console.log(\"All books in the library:\");\n",
    "    lib.forEach((book, i) => {\n",
    "        console.log(`Index ${i}:`, book);\n",
    "    });\n",
    "}\n",
    "\n",
    "// Function to add a new book (students: implement prompt and push logic)\n",
    "function addBook(lib) {\n",
    "    // TODO: Prompt user for title, author, and checkedOut status, then push to library (array)\n",
    "    // Use array's push() method to add new books.\n",
    "    if (typeof title === \"undefined\") {\n",
    "        if (typeof prompt !== \"undefined\") {\n",
    "            title = prompt(\"Title:\").trim();\n",
    "            author = prompt(\"Author:\").trim();\n",
    "            const ans = prompt(\"Checked out? (yes/no):\").trim().toLowerCase();\n",
    "            checkedOut = ans === \"yes\";\n",
    "        } else {\n",
    "            console.warn(\"addBook requires parameters in this environment.\");\n",
    "            return null;\n",
    "        }\n",
    "    }\n",
    "    const book = { title, author, checkedOut: !!checkedOut };\n",
    "    lib.push(book);\n",
    "    console.log(\"Added:\", book);\n",
    "    return book;\n",
    "}\n",
    "\n",
    "// Function to find a book by title (students: implement search logic)\n",
    "function findBook(lib, searchTitle) {\n",
    "    // TODO: Search for a book with matching title and print it\n",
    "    // You can loop through the array to find the matching object.\n",
    "    const book = lib.find(b => b.title === searchTitle);\n",
    "    if (book) {\n",
    "        console.log(\"Found book:\", book);\n",
    "        return book;\n",
    "    } else {\n",
    "        console.log(`Book titled \"${searchTitle}\" not found.`);\n",
    "        return null;\n",
    "    }\n",
    "}\n",
    "\n",
    "// Function to update a book's checkedOut status (students: implement update logic)\n",
    "function updateBook(lib, searchTitle) {\n",
    "    // TODO: Find book by title and update its checkedOut field\n",
    "    // Use array indexing to access and update the object.\n",
    "    const idx = lib.findIndex(b => b.title === searchTitle);\n",
    "    if (idx === -1) {\n",
    "        console.log(\"Book not found:\", searchTitle);\n",
    "        return null;\n",
    "    }\n",
    "    const book = lib[idx];\n",
    "    if (updates.title !== undefined) book.title = updates.title;\n",
    "    if (updates.author !== undefined) book.author = updates.author;\n",
    "    if (updates.checkedOut !== undefined) book.checkedOut = !!updates.checkedOut;\n",
    "    lib[idx] = book;\n",
    "    console.log(\"Updated:\", book);\n",
    "    return book;\n",
    "}\n",
    "\n",
    "// Function to delete a book (students: implement delete logic)\n",
    "function deleteBook(lib, searchTitle) {\n",
    "    // TODO: Remove book with matching title from library\n",
    "    // Use array methods like splice() to delete a book.\n",
    "    const idx = lib.findIndex(b => b.title === searchTitle);\n",
    "    if (idx === -1) {\n",
    "        console.log(\"Book not found:\", searchTitle);\n",
    "        return null;\n",
    "    }\n",
    "    const removed = lib.splice(idx, 1)[0];\n",
    "    console.log(\"Deleted:\", removed);\n",
    "    return removed;\n",
    "}\n",
    "\n",
    "// Example usage\n",
    "displayLibrary(library);\n",
    "// Students: Uncomment and complete the following as you implement\n",
    "// addBook(library);\n",
    "// findBook(library, \"1984\");\n",
    "// updateBook(library, \"To Kill a Mockingbird\");\n",
    "// deleteBook(library, \"The Great Gatsby\");"
   ]
  }
 ],
 "metadata": {
  "kernelspec": {
   "display_name": "Python 3",
   "language": "python",
   "name": "python3"
  },
  "language_info": {
   "codemirror_mode": {
    "name": "ipython",
    "version": 3
   },
   "file_extension": ".py",
   "mimetype": "text/x-python",
   "name": "python",
   "nbconvert_exporter": "python",
   "pygments_lexer": "ipython3",
   "version": "3.10.12"
  }
 },
 "nbformat": 4,
 "nbformat_minor": 5
}
