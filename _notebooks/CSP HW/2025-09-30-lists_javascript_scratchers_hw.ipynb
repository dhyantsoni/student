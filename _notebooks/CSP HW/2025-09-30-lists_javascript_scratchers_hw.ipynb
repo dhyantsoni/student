{
 "cells": [
  {
   "cell_type": "raw",
   "id": "cae8bc40",
   "metadata": {
    "vscode": {
     "languageId": "raw"
    }
   },
   "source": [
    "---\n",
    "layout: post\n",
    "title: Lists Hacks Javascript\n",
    "description: This is a CSP Hacks notebook based on the lists lesson\n",
    "comments: true\n",
    "permalink: /csp/big-idea-3/<lists>/<4>/javascript_hw\n",
    "---"
   ]
  },
  {
   "cell_type": "markdown",
   "id": "44bdd529",
   "metadata": {},
   "source": [
    "# Javascript Lists Homework"
   ]
  },
  {
   "cell_type": "markdown",
   "id": "6a975112",
   "metadata": {},
   "source": [
    "- After going through the lists lesson work on these hacks in your own repository"
   ]
  },
  {
   "cell_type": "markdown",
   "id": "4b1ccc5c",
   "metadata": {},
   "source": [
    "### Hack 1 – Add Up Numbers\n",
    "\n",
    "Make a list of numbers. Write code to:\n",
    "1. Find the total sum.\n",
    "2. Find the average."
   ]
  },
  {
   "cell_type": "code",
   "execution_count": 1,
   "id": "9fc29a1a",
   "metadata": {
    "vscode": {
     "languageId": "javascript"
    }
   },
   "outputs": [
    {
     "data": {
      "application/javascript": "// Hack 1 – Add Up Numbers\nlet numbers = [4, 7, 1, 9, 6, 7, 10];\n\n// Write your code here:\nlet total = numbers.reduce((sum, num) => sum + num, 0); // Find total sum\nlet average = total / numbers.length;                   // Find average\n\nconsole.log(\"Numbers:\", numbers);\nconsole.log(\"Total Sum:\", total);\nconsole.log(\"Average:\", average);\n",
      "text/plain": [
       "<IPython.core.display.Javascript object>"
      ]
     },
     "metadata": {},
     "output_type": "display_data"
    }
   ],
   "source": [
    "%%javascript\n",
    "// Hack 1 – Add Up Numbers\n",
    "let numbers = [4, 7, 1, 9, 6, 7, 10];\n",
    "\n",
    "// Write your code here:\n",
    "let total = numbers.reduce((sum, num) => sum + num, 0); // Find total sum\n",
    "let average = total / numbers.length;                   // Find average\n",
    "\n",
    "console.log(\"Numbers:\", numbers);\n",
    "console.log(\"Total Sum:\", total);\n",
    "console.log(\"Average:\", average);\n"
   ]
  },
  {
   "cell_type": "markdown",
   "id": "519b9811",
   "metadata": {},
   "source": [
    "### Hack 2 – Count Repeats\n",
    "\n",
    "Make a list with repeated items. Write code to count how many times each item appears."
   ]
  },
  {
   "cell_type": "code",
   "execution_count": 2,
   "id": "b9e989ea",
   "metadata": {
    "vscode": {
     "languageId": "javascript"
    }
   },
   "outputs": [
    {
     "data": {
      "application/javascript": "// Hack 2 – Count Repeats\nlet items = [\"cat\", \"dog\", \"cat\", \"bird\", \"bird\", \"bird\"];\n\n// Write your code here:\nlet counts = {}; // Empty object to store counts\n\nfor (let item of items) {\n  counts[item] = (counts[item] || 0) + 1; // Count each occurrence\n}\n\nconsole.log(\"Items:\", items);\nconsole.log(\"Counts:\", counts);\njavascript\nCopy code\n",
      "text/plain": [
       "<IPython.core.display.Javascript object>"
      ]
     },
     "metadata": {},
     "output_type": "display_data"
    }
   ],
   "source": [
    "%%javascript\n",
    "// Hack 2 – Count Repeats\n",
    "let items = [\"cat\", \"dog\", \"cat\", \"bird\", \"bird\", \"bird\"];\n",
    "\n",
    "// Write your code here:\n",
    "let counts = {}; // Empty object to store counts\n",
    "\n",
    "for (let item of items) {\n",
    "  counts[item] = (counts[item] || 0) + 1; // Count each occurrence\n",
    "}\n",
    "\n",
    "console.log(\"Items:\", items);\n",
    "console.log(\"Counts:\", counts);\n",
    "javascript\n",
    "Copy code\n"
   ]
  },
  {
   "cell_type": "markdown",
   "id": "800ed729",
   "metadata": {},
   "source": [
    "### Hack 3 – Keep Only Evens\n",
    "\n",
    "Make a list of numbers. Write code to create a new list with only even numbers."
   ]
  },
  {
   "cell_type": "code",
   "execution_count": 3,
   "id": "4f7fc860",
   "metadata": {
    "vscode": {
     "languageId": "javascript"
    }
   },
   "outputs": [
    {
     "data": {
      "application/javascript": "// Hack 3 – Keep Only Evens\nlet numbers = [3, 8, 5, 12, 7, 9, 13, 31, 66, 18];\n\n// Write your code here:\n\nlet evenNumbers = numbers.filter(num => num % 2 === 0); // Filter for even numbers\n\nconsole.log(\"Original Numbers:\", numbers);\nconsole.log(\"Even Numbers:\", evenNumbers);\n",
      "text/plain": [
       "<IPython.core.display.Javascript object>"
      ]
     },
     "metadata": {},
     "output_type": "display_data"
    }
   ],
   "source": [
    "%%javascript\n",
    "// Hack 3 – Keep Only Evens\n",
    "let numbers = [3, 8, 5, 12, 7, 9, 13, 31, 66, 18];\n",
    "\n",
    "// Write your code here:\n",
    "\n",
    "let evenNumbers = numbers.filter(num => num % 2 === 0); // Filter for even numbers\n",
    "\n",
    "console.log(\"Original Numbers:\", numbers);\n",
    "console.log(\"Even Numbers:\", evenNumbers);"
   ]
  }
 ],
 "metadata": {
  "kernelspec": {
   "display_name": "Python 3",
   "language": "python",
   "name": "python3"
  },
  "language_info": {
   "codemirror_mode": {
    "name": "ipython",
    "version": 3
   },
   "file_extension": ".py",
   "mimetype": "text/x-python",
   "name": "python",
   "nbconvert_exporter": "python",
   "pygments_lexer": "ipython3",
   "version": "3.10.12"
  }
 },
 "nbformat": 4,
 "nbformat_minor": 5
}
